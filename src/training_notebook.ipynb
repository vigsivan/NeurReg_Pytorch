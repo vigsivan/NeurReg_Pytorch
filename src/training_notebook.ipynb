{
 "cells": [
  {
   "cell_type": "code",
   "execution_count": 3,
   "id": "0d937aac-bf54-4424-9500-44f193e6c850",
   "metadata": {},
   "outputs": [],
   "source": [
    "from training_script import get_dataloader, get_models\n",
    "from math import ceil\n",
    "from tqdm import trange\n",
    "from dataset import ImageDataset\n",
    "from components import *\n",
    "from typing import Dict\n",
    "from torch.nn import Conv3d, Sequential, Softmax, Module\n",
    "import torch.nn.functional as F\n",
    "import params\n",
    "import torch\n",
    "\n",
    "from losses import NeurRegLoss\n",
    "from torch.utils.data import DataLoader"
   ]
  },
  {
   "cell_type": "code",
   "execution_count": null,
   "id": "a09ea92d-5cba-4d65-8dd1-e319900aad77",
   "metadata": {},
   "outputs": [],
   "source": []
  }
 ],
 "metadata": {
  "kernelspec": {
   "display_name": "Python 3 (ipykernel)",
   "language": "python",
   "name": "python3"
  },
  "language_info": {
   "codemirror_mode": {
    "name": "ipython",
    "version": 3
   },
   "file_extension": ".py",
   "mimetype": "text/x-python",
   "name": "python",
   "nbconvert_exporter": "python",
   "pygments_lexer": "ipython3",
   "version": "3.8.10"
  }
 },
 "nbformat": 4,
 "nbformat_minor": 5
}
